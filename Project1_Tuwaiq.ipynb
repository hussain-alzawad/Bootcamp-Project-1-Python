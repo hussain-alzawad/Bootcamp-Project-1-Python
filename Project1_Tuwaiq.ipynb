{
 "cells": [
  {
   "cell_type": "markdown",
   "id": "922ef12a",
   "metadata": {},
   "source": [
    "# Tuwaiq bootcamp project 1 "
   ]
  },
  {
   "cell_type": "markdown",
   "id": "e515c727",
   "metadata": {},
   "source": [
    "### This project takes a list of numbers and analyzes it using many different methods "
   ]
  },
  {
   "cell_type": "code",
   "execution_count": null,
   "id": "e25bd6ad",
   "metadata": {},
   "outputs": [],
   "source": [
    "numbers = [21,12,12,32,43,3,2,1,1,54,6]"
   ]
  },
  {
   "cell_type": "code",
   "execution_count": 21,
   "id": "4d1fb100",
   "metadata": {},
   "outputs": [],
   "source": [
    "isEven = lambda x : x % 2 == 0"
   ]
  },
  {
   "cell_type": "code",
   "execution_count": 22,
   "id": "f85f927e",
   "metadata": {},
   "outputs": [],
   "source": [
    "def isPrime(number):\n",
    "    for num in range(2,int(number / 2)):\n",
    "        if number % num == 0:\n",
    "            return False\n",
    "    return True"
   ]
  },
  {
   "cell_type": "code",
   "execution_count": 23,
   "id": "a9f15904",
   "metadata": {},
   "outputs": [],
   "source": [
    "def analyzeNumbers(numbers):\n",
    "    primes = set([num for num in numbers if isPrime(num)])\n",
    "    sumOfNumbers = sum(numbers)\n",
    "    avg = sumOfNumbers / len(numbers)\n",
    "    evenNumbers = set([x for x in numbers if isEven(x)])\n",
    "    oddNumbers = set([x for x in numbers if not isEven(x)])\n",
    "    maxNum = max(numbers)\n",
    "    minNum = min(numbers)\n",
    "    uniques = set(numbers)\n",
    "    sortedNum = sorted(numbers)\n",
    "    \n",
    "    return {\n",
    "        'evenNumbers': evenNumbers,\n",
    "        'oddNumbers': oddNumbers,\n",
    "        'sum': sumOfNumbers,\n",
    "        'average': avg,\n",
    "        'maximum': maxNum,\n",
    "        'minimum': minNum,\n",
    "        'uniqueNumbers': uniques,\n",
    "        'sorted': sortedNum,\n",
    "        'primeNumbers': primes,\n",
    "        \n",
    "    }"
   ]
  },
  {
   "cell_type": "code",
   "execution_count": 25,
   "id": "718eb4f9",
   "metadata": {},
   "outputs": [],
   "source": [
    "analysisResults = analyzeNumbers(numbers)"
   ]
  },
  {
   "cell_type": "code",
   "execution_count": 32,
   "id": "d19e76d3",
   "metadata": {},
   "outputs": [
    {
     "name": "stdout",
     "output_type": "stream",
     "text": [
      "The evenNumbers in the list is/are: {32, 2, 6, 12, 54}\n",
      "The oddNumbers in the list is/are: {3, 1, 43, 21}\n",
      "The sum in the list is/are: 187\n",
      "The average in the list is/are: 17.0\n",
      "The maximum in the list is/are: 54\n",
      "The minimum in the list is/are: 1\n",
      "The uniqueNumbers in the list is/are: {32, 1, 2, 3, 6, 43, 12, 21, 54}\n",
      "The sorted in the list is/are: [1, 1, 2, 3, 6, 12, 12, 21, 32, 43, 54]\n",
      "The primeNumbers in the list is/are: {3, 1, 2, 43}\n"
     ]
    }
   ],
   "source": [
    "for key in analysisResults.keys():\n",
    "    print (f\"The {key} in the list is/are: {analysisResults[key]}\")"
   ]
  }
 ],
 "metadata": {
  "kernelspec": {
   "display_name": "Python 3 (ipykernel)",
   "language": "python",
   "name": "python3"
  },
  "language_info": {
   "codemirror_mode": {
    "name": "ipython",
    "version": 3
   },
   "file_extension": ".py",
   "mimetype": "text/x-python",
   "name": "python",
   "nbconvert_exporter": "python",
   "pygments_lexer": "ipython3",
   "version": "3.11.3"
  }
 },
 "nbformat": 4,
 "nbformat_minor": 5
}
